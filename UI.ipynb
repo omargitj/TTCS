{
 "cells": [
  {
   "cell_type": "code",
   "execution_count": 1,
   "metadata": {},
   "outputs": [
    {
     "data": {
      "text/plain": [
       "True"
      ]
     },
     "execution_count": 1,
     "metadata": {},
     "output_type": "execute_result"
    }
   ],
   "source": [
    "import webbrowser\n",
    "\n",
    "f = open(\"C:/wamp64/www/project/upload_file.php\",'w')\n",
    "\n",
    "message = '''\n",
    "\n",
    "<?php\n",
    "    if(isset($_POST['upload'])) {\n",
    "        $file_name = $_FILES['file']['name'];\n",
    "        $file_type = $_FILES['file']['type'];\n",
    "        $file_size = $_FILES['file']['size'];\n",
    "        $file_tem_Loc = $_FILES['file']['tmp_name'];\n",
    "        $file_store = \"C:/wamp64/www/project/upload/\".$file_name;\n",
    "\n",
    "        if(move_uploaded_file($file_tem_Loc, $file_store)){\n",
    "            echo \"File uploaded successfully\";\n",
    "        }\n",
    "    }\n",
    "?>\n",
    "\n",
    "<!DOCTYPE html>\n",
    "<html>\n",
    "    <head>\n",
    "        <title> Uploading File </title>\n",
    "    </head>\n",
    "    <body>\n",
    "        <form action = \"?\" method = \"POST\" enctype = \"multipart/form-data\">\n",
    "            <label> Uploading Files </label>\n",
    "            <p><input type=\"file\" name=\"file\"/></p>\n",
    "            <p><input type=\"submit\" name=\"upload\" value=\"choose a csv file\"/></p>\n",
    "        </form>\n",
    "    </body>\n",
    "</html>\n",
    "\n",
    "'''\n",
    "\n",
    "f.write(message)\n",
    "f.close()\n",
    "\n",
    "#print(message)\n",
    "webbrowser.open_new_tab(\"http://localhost/project/upload_file.php\")\n"
   ]
  },
  {
   "cell_type": "code",
   "execution_count": 2,
   "metadata": {},
   "outputs": [
    {
     "name": "stdout",
     "output_type": "stream",
     "text": [
      "C:/wamp64/www/project/upload\\1429_1.csv\n"
     ]
    }
   ],
   "source": [
    "import glob\n",
    "import os\n",
    "\n",
    "list_of_files = glob.glob('C:/wamp64/www/project/upload/*.csv') # * means all if need specific format then *.csv\n",
    "latest_file = max(list_of_files, key=os.path.getctime)\n",
    "print(latest_file)"
   ]
  },
  {
   "cell_type": "code",
   "execution_count": 3,
   "metadata": {},
   "outputs": [
    {
     "name": "stdout",
     "output_type": "stream",
     "text": [
      "['id', 'name', 'asins', 'brand', 'categories', 'keys', 'manufacturer', 'reviews.date', 'reviews.dateAdded', 'reviews.dateSeen', 'reviews.didPurchase', 'reviews.doRecommend', 'reviews.id', 'reviews.numHelpful', 'reviews.rating', 'reviews.sourceURLs', 'reviews.text', 'reviews.title', 'reviews.userCity', 'reviews.userProvince', 'reviews.username']\n"
     ]
    }
   ],
   "source": [
    "import csv\n",
    "with open(latest_file, \"r\") as f:\n",
    "    reader = csv.reader(f)\n",
    "    cols = next(reader)\n",
    "\n",
    "    print(cols)"
   ]
  },
  {
   "cell_type": "code",
   "execution_count": 4,
   "metadata": {},
   "outputs": [
    {
     "data": {
      "text/plain": [
       "True"
      ]
     },
     "execution_count": 4,
     "metadata": {},
     "output_type": "execute_result"
    }
   ],
   "source": [
    "import webbrowser\n",
    "\n",
    "f = open(\"C:/wamp64/www/project/choose_col.php\",'w')\n",
    "\n",
    "message = '''<html>\n",
    "<body>\n",
    "<h2>PHP Multiple Select Options and Radio Buttons</h2>\n",
    "\n",
    "<form method=\"POST\">\n",
    "'''\n",
    "\n",
    "for i,col_name in enumerate(cols):\n",
    "    message += '''<input name=\"radio\" type=\"radio\" value=''' + '\"' + col_name + '\">' + col_name + \"\\n\"\n",
    "    \n",
    "message += \"\"\"<input name=\"submit\" type=\"submit\" value=\"Get Selected Values\">\n",
    "</form>\n",
    "\n",
    "</body>\n",
    "</html>\n",
    "\n",
    "\"\"\"\n",
    "\n",
    "message += \"\"\"\n",
    "<?php\n",
    "if (isset($_POST['submit'])) {\n",
    "if(isset($_POST['radio']))\n",
    "{\n",
    "echo \"<span>You have selected :<b> \".$_POST['radio'].\"</b></span>\";\n",
    "}\n",
    "else{ echo \"<span>Please choose any radio button.</span>\";}\n",
    "}\n",
    "?>\n",
    "\"\"\"\n",
    "\n",
    "f.write(message)\n",
    "f.close()\n",
    "\n",
    "#print(message)\n",
    "webbrowser.open_new_tab(\"http://localhost/project/choose_col.php\")"
   ]
  }
 ],
 "metadata": {
  "kernelspec": {
   "display_name": "Python 3",
   "language": "python",
   "name": "python3"
  },
  "language_info": {
   "codemirror_mode": {
    "name": "ipython",
    "version": 3
   },
   "file_extension": ".py",
   "mimetype": "text/x-python",
   "name": "python",
   "nbconvert_exporter": "python",
   "pygments_lexer": "ipython3",
   "version": "3.7.3"
  }
 },
 "nbformat": 4,
 "nbformat_minor": 2
}
